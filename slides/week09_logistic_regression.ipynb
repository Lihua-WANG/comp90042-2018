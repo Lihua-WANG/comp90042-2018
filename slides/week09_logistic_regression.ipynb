{
 "cells": [
  {
   "cell_type": "code",
   "execution_count": 1,
   "metadata": {},
   "outputs": [],
   "source": [
    "import numpy as np\n",
    "import matplotlib.pyplot as plt\n",
    "\n",
    "%matplotlib inline"
   ]
  },
  {
   "cell_type": "code",
   "execution_count": 2,
   "metadata": {},
   "outputs": [],
   "source": [
    "X = np.asarray([\n",
    "    [-1, 1],\n",
    "    [0, 2],\n",
    "    [1, 0],\n",
    "    [1, 1]\n",
    "], dtype=np.float)"
   ]
  },
  {
   "cell_type": "code",
   "execution_count": 3,
   "metadata": {},
   "outputs": [],
   "source": [
    "y = np.asarray([0, 0, 1, 1], dtype=np.int)"
   ]
  },
  {
   "cell_type": "code",
   "execution_count": 4,
   "metadata": {},
   "outputs": [
    {
     "data": {
      "text/plain": [
       "<matplotlib.legend.Legend at 0x7c19e48>"
      ]
     },
     "execution_count": 4,
     "metadata": {},
     "output_type": "execute_result"
    },
    {
     "data": {
      "image/png": "[encoded data removed]",
      "text/plain": [
       "<matplotlib.figure.Figure at 0x7985080>"
      ]
     },
     "metadata": {},
     "output_type": "display_data"
    }
   ],
   "source": [
    "for label in [0, 1]:\n",
    "    plt.scatter(X[y==label, 0], X[y==label, 1], label='class'+str(label))\n",
    "plt.legend()"
   ]
  },
  {
   "cell_type": "code",
   "execution_count": 5,
   "metadata": {},
   "outputs": [],
   "source": [
    "line1 = np.asarray([1, -1, 0.5], dtype=np.float)\n",
    "line2 = np.asarray([2, -1, 0], dtype=np.float)"
   ]
  },
  {
   "cell_type": "code",
   "execution_count": 6,
   "metadata": {},
   "outputs": [],
   "source": [
    "xs = np.linspace(-1, 1, 10)"
   ]
  },
  {
   "cell_type": "code",
   "execution_count": 7,
   "metadata": {},
   "outputs": [
    {
     "data": {
      "text/plain": [
       "<matplotlib.legend.Legend at 0x7ca0b70>"
      ]
     },
     "execution_count": 7,
     "metadata": {},
     "output_type": "execute_result"
    },
    {
     "data": {
      "image/png": "[encoded data removed]",
      "text/plain": [
       "<matplotlib.figure.Figure at 0x7c6cef0>"
      ]
     },
     "metadata": {},
     "output_type": "display_data"
    }
   ],
   "source": [
    "plt.scatter(X[y==0, 0], X[y==0, 1], label='class0', c='red')\n",
    "plt.scatter(X[y==1, 0], X[y==1, 1], label='class1', c='blue')\n",
    "\n",
    "for i, (w1, w2, b) in enumerate([line1, line2]):\n",
    "    plt.plot(xs, (-b-w1*xs)/w2, label='line'+str(i+1))\n",
    "    \n",
    "plt.legend()"
   ]
  },
  {
   "cell_type": "code",
   "execution_count": 8,
   "metadata": {},
   "outputs": [],
   "source": [
    "def predict(line, point):\n",
    "    w1, w2, b = line\n",
    "    x1, x2 = point\n",
    "    \n",
    "    s = w1*x1 + w2*x2 + b\n",
    "    prob1 = 1/(1+np.exp(-s))\n",
    "    prob0 = 1 - prob1\n",
    "    return prob0, prob1"
   ]
  },
  {
   "cell_type": "code",
   "execution_count": 9,
   "metadata": {},
   "outputs": [
    {
     "name": "stdout",
     "output_type": "stream",
     "text": [
      "(0.8175744761936437, 0.18242552380635635)\n",
      "(0.8175744761936437, 0.18242552380635635)\n",
      "(0.18242552380635635, 0.8175744761936437)\n",
      "(0.3775406687981454, 0.6224593312018546)\n"
     ]
    }
   ],
   "source": [
    "for point in X:\n",
    "    print(predict(line1, point))"
   ]
  },
  {
   "cell_type": "code",
   "execution_count": 10,
   "metadata": {},
   "outputs": [
    {
     "name": "stdout",
     "output_type": "stream",
     "text": [
      "(0.9525741268224333, 0.04742587317756678)\n",
      "(0.8807970779778824, 0.11920292202211755)\n",
      "(0.11920292202211769, 0.8807970779778823)\n",
      "(0.2689414213699951, 0.7310585786300049)\n"
     ]
    }
   ],
   "source": [
    "for point in X:\n",
    "    print(predict(line2, point))"
   ]
  },
  {
   "cell_type": "code",
   "execution_count": 11,
   "metadata": {},
   "outputs": [],
   "source": [
    "def likelihood(line, X, y):\n",
    "    likelihood = 1\n",
    "    for i in range(len(y)):\n",
    "        point = X[i]\n",
    "        label = y[i]\n",
    "        \n",
    "        probs = predict(line, point)\n",
    "        \n",
    "        likelihood *= probs[label]\n",
    "    return likelihood"
   ]
  },
  {
   "cell_type": "code",
   "execution_count": 12,
   "metadata": {},
   "outputs": [
    {
     "data": {
      "text/plain": [
       "(0.34016760800165546, 0.5402598447506067)"
      ]
     },
     "execution_count": 12,
     "metadata": {},
     "output_type": "execute_result"
    }
   ],
   "source": [
    "likelihood(line1, X, y), likelihood(line2, X, y)"
   ]
  },
  {
   "cell_type": "code",
   "execution_count": 13,
   "metadata": {},
   "outputs": [],
   "source": [
    "def grad_per_point(line, point, label):\n",
    "    probs = predict(line, point)\n",
    "    if label == 1:\n",
    "        grad_b = probs[0] * probs[1]\n",
    "    else:\n",
    "        grad_b = - probs[0] * probs[1]\n",
    "        \n",
    "    x1, x2 = point\n",
    "    grad_w1 = grad_b * x1\n",
    "    grad_w2 = grad_b * x2\n",
    "    \n",
    "    return np.asarray([grad_w1, grad_w2, grad_b])"
   ]
  },
  {
   "cell_type": "code",
   "execution_count": 14,
   "metadata": {},
   "outputs": [],
   "source": [
    "line3 = line2.copy().astype(np.float32)"
   ]
  },
  {
   "cell_type": "code",
   "execution_count": 15,
   "metadata": {},
   "outputs": [
    {
     "name": "stdout",
     "output_type": "stream",
     "text": [
      "[ 0.34678218 -0.0585519   0.15143527]\n"
     ]
    }
   ],
   "source": [
    "grad = np.zeros(3)\n",
    "for i in range(len(y)):\n",
    "    grad += grad_per_point(line3, X[i], y[i])\n",
    "print(grad)"
   ]
  },
  {
   "cell_type": "code",
   "execution_count": 16,
   "metadata": {},
   "outputs": [
    {
     "name": "stdout",
     "output_type": "stream",
     "text": [
      "[ 2. -1.  0.]\n",
      "0.5402598447506067\n",
      "[ 2.0034678e+00 -1.0005856e+00  1.5143527e-03]\n",
      "0.5412615822927596\n"
     ]
    }
   ],
   "source": [
    "print(line3)\n",
    "print(likelihood(line3, X, y))\n",
    "\n",
    "line3 += 0.01 * grad\n",
    "\n",
    "print(line3)\n",
    "print(likelihood(line3, X, y))"
   ]
  },
  {
   "cell_type": "code",
   "execution_count": 17,
   "metadata": {
    "collapsed": true
   },
   "outputs": [
    {
     "name": "stdout",
     "output_type": "stream",
     "text": [
      "0 0.5408160064700654\n",
      "1 0.5410884546094343\n",
      "2 0.5413572569292161\n",
      "3 0.541622464084853\n",
      "4 0.5418841263216566\n",
      "5 0.5421422932928871\n",
      "6 0.5423970140630039\n",
      "7 0.5426483371110247\n",
      "8 0.5428963103339891\n",
      "9 0.5431409810505278\n",
      "10 0.5433823960045208\n",
      "11 0.5436206013688516\n",
      "12 0.5438556427492447\n",
      "13 0.5440875651881826\n",
      "14 0.5443164131689028\n",
      "15 0.5445422306194633\n",
      "16 0.544765060916878\n",
      "17 0.5449849468913135\n",
      "18 0.5452019308303474\n",
      "19 0.5454160544832803\n",
      "20 0.5456273590655003\n",
      "21 0.5458358852628931\n",
      "22 0.5460416732363004\n",
      "23 0.5462447626260157\n",
      "24 0.5464451925563172\n",
      "25 0.5466430016400377\n",
      "26 0.5468382279831611\n",
      "27 0.5470309091894513\n",
      "28 0.5472210823651026\n",
      "29 0.5474087841234125\n",
      "30 0.5475940505894752\n",
      "31 0.5477769174048892\n",
      "32 0.5479574197324818\n",
      "33 0.5481355922610415\n",
      "34 0.5483114692100627\n",
      "35 0.548485084334494\n",
      "36 0.5486564709294939\n",
      "37 0.5488256618351854\n",
      "38 0.548992689441415\n",
      "39 0.5491575856925044\n",
      "40 0.5493203820920041\n",
      "41 0.549481109707438\n",
      "42 0.5496397991750404\n",
      "43 0.5497964807044865\n",
      "44 0.5499511840836093\n",
      "45 0.5501039386831063\n",
      "46 0.5502547734612313\n",
      "47 0.5504037169684715\n",
      "48 0.5505507973522068\n",
      "49 0.5506960423613538\n",
      "50 0.550839479350988\n",
      "51 0.5509811352869459\n",
      "52 0.5511210367504082\n",
      "53 0.5512592099424559\n",
      "54 0.5513956806886077\n",
      "55 0.551530474443328\n",
      "56 0.5516636162945135\n",
      "57 0.5517951309679504\n",
      "58 0.5519250428317453\n",
      "59 0.5520533759007278\n",
      "60 0.5521801538408255\n",
      "61 0.5523053999734067\n",
      "62 0.552429137279595\n",
      "63 0.5525513884045525\n",
      "64 0.552672175661731\n",
      "65 0.5527915210370924\n",
      "66 0.5529094461932935\n",
      "67 0.5530259724738428\n",
      "68 0.5531411209072175\n",
      "69 0.5532549122109527\n",
      "70 0.5533673667956914\n",
      "71 0.5534785047692033\n",
      "72 0.5535883459403662\n",
      "73 0.5536969098231129\n",
      "74 0.5538042156403433\n",
      "75 0.5539102823277995\n",
      "76 0.5540151285379054\n",
      "77 0.5541187726435697\n",
      "78 0.5542212327419535\n",
      "79 0.5543225266581997\n",
      "80 0.5544226719491269\n",
      "81 0.5545216859068866\n",
      "82 0.5546195855625824\n",
      "83 0.5547163876898539\n",
      "84 0.554812108808421\n",
      "85 0.5549067651875951\n",
      "86 0.5550003728497488\n",
      "87 0.5550929475737524\n",
      "88 0.555184504898371\n",
      "89 0.5552750601256257\n",
      "90 0.5553646283241176\n",
      "91 0.5554532243323146\n",
      "92 0.5555408627618029\n",
      "93 0.555627558000499\n",
      "94 0.5557133242158291\n",
      "95 0.5557981753578677\n",
      "96 0.5558821251624438\n",
      "97 0.5559651871542083\n",
      "98 0.5560473746496666\n",
      "99 0.5561287007601742\n"
     ]
    }
   ],
   "source": [
    "for k in range(100):\n",
    "    grad = np.zeros(3)\n",
    "    for i in range(len(y)):\n",
    "        grad += grad_per_point(line3, X[i], y[i])\n",
    "        \n",
    "    line3 += 0.01 * grad\n",
    "    \n",
    "    w1, w2, b = line3\n",
    "    sum_of_squares = w1*w1 + w2*w2\n",
    "    if sum_of_squares >= 5:\n",
    "        w1 *= np.sqrt(5/sum_of_squares)\n",
    "        w2 *= np.sqrt(5/sum_of_squares)\n",
    "    line3 = np.asarray([w1, w2, b])\n",
    "    \n",
    "    print(k, likelihood(line3, X, y))"
   ]
  },
  {
   "cell_type": "code",
   "execution_count": 18,
   "metadata": {},
   "outputs": [
    {
     "data": {
      "text/plain": [
       "<matplotlib.legend.Legend at 0x7cffeb8>"
      ]
     },
     "execution_count": 18,
     "metadata": {},
     "output_type": "execute_result"
    },
    {
     "data": {
      "image/png": "[encoded data removed]",
      "text/plain": [
       "<matplotlib.figure.Figure at 0x7cb9630>"
      ]
     },
     "metadata": {},
     "output_type": "display_data"
    }
   ],
   "source": [
    "plt.scatter(X[y==0, 0], X[y==0, 1], label='class0', c='red')\n",
    "plt.scatter(X[y==1, 0], X[y==1, 1], label='class1', c='blue')\n",
    "\n",
    "for i, (w1, w2, b) in enumerate([line1, line2, line3]):\n",
    "    plt.plot(xs, (-b-w1*xs)/w2, label='line'+str(i+1))\n",
    "    \n",
    "plt.legend()"
   ]
  },
  {
   "cell_type": "code",
   "execution_count": 19,
   "metadata": {},
   "outputs": [],
   "source": [
    "import torch\n",
    "\n",
    "torchX = torch.tensor(X)\n",
    "torchY = torch.tensor(y)\n",
    "\n",
    "line4 = torch.tensor(line2, requires_grad=True)"
   ]
  },
  {
   "cell_type": "code",
   "execution_count": 20,
   "metadata": {},
   "outputs": [],
   "source": [
    "def predict_torch(line, point):\n",
    "    w1, w2, b = line\n",
    "    x1, x2 = point\n",
    "    \n",
    "    s = w1*x1 + w2*x2 + b\n",
    "    prob1 = 1/(1+torch.exp(-s))\n",
    "    prob0 = 1 - prob1\n",
    "    return prob0, prob1"
   ]
  },
  {
   "cell_type": "code",
   "execution_count": 21,
   "metadata": {},
   "outputs": [],
   "source": [
    "def log_likelihood_torch(line, X, y):\n",
    "    log_likelihood = 0\n",
    "    for i in range(len(y)):\n",
    "        point = X[i]\n",
    "        label = y[i]\n",
    "        \n",
    "        probs = predict_torch(line, point)\n",
    "        \n",
    "        log_likelihood += torch.log(probs[label])\n",
    "    return log_likelihood"
   ]
  },
  {
   "cell_type": "code",
   "execution_count": 22,
   "metadata": {
    "collapsed": true
   },
   "outputs": [
    {
     "name": "stdout",
     "output_type": "stream",
     "text": [
      "0 -0.61570506117791\n",
      "1 -0.6148966863283157\n",
      "2 -0.6141065435442292\n",
      "3 -0.6133341933810564\n",
      "4 -0.6125792068329475\n",
      "5 -0.6118411650894232\n",
      "6 -0.6111196592976926\n",
      "7 -0.6104142903305143\n",
      "8 -0.6097246685594664\n",
      "9 -0.6090504136334962\n",
      "10 -0.6083911542626113\n",
      "11 -0.6077465280065986\n",
      "12 -0.6071161810686394\n",
      "13 -0.6064997680937061\n",
      "14 -0.6058969519716237\n",
      "15 -0.6053074036446863\n",
      "16 -0.6047308019197144\n",
      "17 -0.6041668332844512\n",
      "18 -0.6036151917281912\n",
      "19 -0.6030755785665445\n",
      "20 -0.6025477022702304\n",
      "21 -0.6020312782978166\n",
      "22 -0.6015260289323008\n",
      "23 -0.6010316831214493\n",
      "24 -0.6005479763218018\n",
      "25 -0.6000746503462612\n",
      "26 -0.5996114532151795\n",
      "27 -0.5991581390108598\n",
      "28 -0.5987144677353975\n",
      "29 -0.5982802051717792\n",
      "30 -0.5978551227481708\n",
      "31 -0.5974389974053105\n",
      "32 -0.5970316114669463\n",
      "33 -0.5966327525132413\n",
      "34 -0.596242213257081\n",
      "35 -0.5958597914232147\n",
      "36 -0.5954852896301692\n",
      "37 -0.5951185152748689\n",
      "38 -0.5947592804199011\n",
      "39 -0.5944074016833678\n",
      "40 -0.5940627001312623\n",
      "41 -0.5937250011723181\n",
      "42 -0.5933941344552676\n",
      "43 -0.593069933768466\n",
      "44 -0.5927522369418124\n",
      "45 -0.5924408857509318\n",
      "46 -0.5921357258235564\n",
      "47 -0.5918366065480609\n",
      "48 -0.5915433809841023\n",
      "49 -0.5912559057753186\n",
      "50 -0.5909740410640358\n",
      "51 -0.590697650407944\n",
      "52 -0.590426600698692\n",
      "53 -0.5901607620823657\n",
      "54 -0.5899000078817962\n",
      "55 -0.5896442145206697\n",
      "56 -0.5893932614493878\n",
      "57 -0.5891470310726469\n",
      "58 -0.5889054086786931\n",
      "59 -0.5886682823702165\n",
      "60 -0.5884355429968487\n",
      "61 -0.58820708408923\n",
      "62 -0.5879828017946029\n",
      "63 -0.5877625948139082\n",
      "64 -0.5875463643403418\n",
      "65 -0.5873340139993442\n",
      "66 -0.587125449789988\n",
      "67 -0.5869205800277342\n",
      "68 -0.5867193152885228\n",
      "69 -0.5865215683541707\n",
      "70 -0.5863272541590507\n",
      "71 -0.5861362897380125\n",
      "72 -0.5859485941755299\n",
      "73 -0.5857640885560369\n",
      "74 -0.5855826959154331\n",
      "75 -0.5854043411937246\n",
      "76 -0.5852289511887848\n",
      "77 -0.5850564545111959\n",
      "78 -0.5848867815401637\n",
      "79 -0.5847198643804651\n",
      "80 -0.5845556368204141\n",
      "81 -0.5843940342908254\n",
      "82 -0.5842349938249407\n",
      "83 -0.584078454019312\n",
      "84 -0.5839243549956072\n",
      "85 -0.5837726383633222\n",
      "86 -0.5836232471833802\n",
      "87 -0.5834761259325965\n",
      "88 -0.5833312204689842\n",
      "89 -0.5831884779978935\n",
      "90 -0.5830478470389513\n",
      "91 -0.5829092773937938\n",
      "92 -0.5827727201145674\n",
      "93 -0.5826381274731853\n",
      "94 -0.5825054529313156\n",
      "95 -0.5823746511110917\n",
      "96 -0.582245677766524\n",
      "97 -0.5821184897555974\n",
      "98 -0.5819930450130368\n",
      "99 -0.5818693025237316\n"
     ]
    }
   ],
   "source": [
    "for k in range(100):\n",
    "    ll = log_likelihood_torch(line4, torchX, torchY)\n",
    "    \n",
    "    print(k, ll.item())\n",
    "    \n",
    "    ll.backward()\n",
    "    line4.data += 0.01 * line4.grad.data\n",
    "    line4.grad.zero_()\n",
    "    \n",
    "    w1, w2, b = line4.data\n",
    "    sum_of_squares = w1*w1 + w2*w2\n",
    "    if sum_of_squares >= 5:\n",
    "        w1 *= torch.sqrt(5/sum_of_squares)\n",
    "        w2 *= torch.sqrt(5/sum_of_squares)"
   ]
  },
  {
   "cell_type": "code",
   "execution_count": 23,
   "metadata": {},
   "outputs": [
    {
     "data": {
      "text/plain": [
       "<matplotlib.legend.Legend at 0x95a6588>"
      ]
     },
     "execution_count": 23,
     "metadata": {},
     "output_type": "execute_result"
    },
    {
     "data": {
      "image/png": "[encoded data removed]",
      "text/plain": [
       "<matplotlib.figure.Figure at 0x9585c88>"
      ]
     },
     "metadata": {},
     "output_type": "display_data"
    }
   ],
   "source": [
    "plt.scatter(X[y==0, 0], X[y==0, 1], label='class0', c='red')\n",
    "plt.scatter(X[y==1, 0], X[y==1, 1], label='class1', c='blue')\n",
    "\n",
    "for i, (w1, w2, b) in enumerate([line1, line2, line3, line4.data.numpy()]):\n",
    "    plt.plot(xs, (-b-w1*xs)/w2, label='line'+str(i+1))\n",
    "    \n",
    "plt.legend()"
   ]
  }
 ],
 "metadata": {
  "kernelspec": {
   "display_name": "Python 3",
   "language": "python",
   "name": "python3"
  },
  "language_info": {
   "codemirror_mode": {
    "name": "ipython",
    "version": 3
   },
   "file_extension": ".py",
   "mimetype": "text/x-python",
   "name": "python",
   "nbconvert_exporter": "python",
   "pygments_lexer": "ipython3",
   "version": "3.5.2"
  }
 },
 "nbformat": 4,
 "nbformat_minor": 2
}
